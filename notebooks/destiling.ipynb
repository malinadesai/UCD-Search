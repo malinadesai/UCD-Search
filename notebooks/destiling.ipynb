{
 "cells": [
  {
   "cell_type": "markdown",
   "id": "d48b8284-4f08-4e57-bf8b-a73fa5ac7819",
   "metadata": {},
   "source": [
    "# Collecting DES Data\n",
    "\n",
    "This notebook arranges DES data into 204 csv files across the entire 5,000 square degrees of coverage. The tiles are crossmatched to VHS and CatWise2020. These matches form the collection of sources from which candidates are pulled.\n",
    "\n",
    "## Imports"
   ]
  },
  {
   "cell_type": "code",
   "execution_count": 1,
   "id": "bbd3f422-b1e1-49c4-9e83-9116beec7fb5",
   "metadata": {
    "execution": {
     "iopub.execute_input": "2023-09-14T00:38:51.142129Z",
     "iopub.status.busy": "2023-09-14T00:38:51.141492Z",
     "iopub.status.idle": "2023-09-14T00:38:55.998130Z",
     "shell.execute_reply": "2023-09-14T00:38:55.996427Z",
     "shell.execute_reply.started": "2023-09-14T00:38:51.142062Z"
    }
   },
   "outputs": [],
   "source": [
    "# std lib\n",
    "from getpass import getpass\n",
    "\n",
    "# standard\n",
    "import numpy as np\n",
    "import pylab as plt\n",
    "import matplotlib\n",
    "%matplotlib inline\n",
    "from matplotlib.ticker import (MultipleLocator, AutoMinorLocator)\n",
    "import pandas as pd\n",
    "from numpy.polynomial import polynomial as P\n",
    "\n",
    "# Data Lab\n",
    "from dl import authClient as ac, queryClient as qc, storeClient as sc\n",
    "\n",
    "# others\n",
    "from dl.helpers.utils import convert\n",
    "import os\n",
    "import glob\n",
    "import gc"
   ]
  },
  {
   "cell_type": "code",
   "execution_count": 2,
   "id": "c13b927d-93aa-4719-9fe4-ba3c8a5090fd",
   "metadata": {
    "execution": {
     "iopub.execute_input": "2023-09-14T00:39:03.130831Z",
     "iopub.status.busy": "2023-09-14T00:39:03.130214Z",
     "iopub.status.idle": "2023-09-14T00:39:07.100944Z",
     "shell.execute_reply": "2023-09-14T00:39:07.099454Z",
     "shell.execute_reply.started": "2023-09-14T00:39:03.130778Z"
    }
   },
   "outputs": [
    {
     "name": "stdin",
     "output_type": "stream",
     "text": [
      "Enter user name: (+ENTER)  malinadesai\n",
      "Enter password: (+ENTER)  ········\n"
     ]
    }
   ],
   "source": [
    "# Login\n",
    "\n",
    "token = ac.login(input(\"Enter user name: (+ENTER) \"),getpass(\"Enter password: (+ENTER) \"))"
   ]
  },
  {
   "cell_type": "markdown",
   "id": "9e7001a2-6153-4bfa-99d9-34c3b1f994ce",
   "metadata": {},
   "source": [
    "## Get the DES Data"
   ]
  },
  {
   "cell_type": "code",
   "execution_count": 3,
   "id": "85bef29e-55e2-4ca5-948a-b0344c1cd945",
   "metadata": {
    "execution": {
     "iopub.execute_input": "2023-09-14T00:39:22.388423Z",
     "iopub.status.busy": "2023-09-14T00:39:22.387806Z",
     "iopub.status.idle": "2023-09-14T00:39:22.444273Z",
     "shell.execute_reply": "2023-09-14T00:39:22.442875Z",
     "shell.execute_reply.started": "2023-09-14T00:39:22.388369Z"
    }
   },
   "outputs": [],
   "source": [
    "# get the des tile names\n",
    "# you may need to change the file name to the file path pointing to UCD-Search/data/destilenames.csv\n",
    "\n",
    "destilenames = pd.read_csv('destilenames.csv') "
   ]
  },
  {
   "cell_type": "code",
   "execution_count": 4,
   "id": "9f8f6e21-07fe-4f48-9e9d-3f64c5765433",
   "metadata": {
    "execution": {
     "iopub.execute_input": "2023-09-14T00:39:36.141370Z",
     "iopub.status.busy": "2023-09-14T00:39:36.140783Z",
     "iopub.status.idle": "2023-09-14T00:39:36.160093Z",
     "shell.execute_reply": "2023-09-14T00:39:36.158614Z",
     "shell.execute_reply.started": "2023-09-14T00:39:36.141319Z"
    }
   },
   "outputs": [],
   "source": [
    "# functions\n",
    "\n",
    "def save_to_csv(frame, filename):\n",
    "    ''' \n",
    "    Takes a dataframe [frame] and saves it as a csv with name [filename]\n",
    "    frame     -   pd.dataframe object\n",
    "    filename  -   string\n",
    "    Adds the index to the dataframe\n",
    "    '''\n",
    "    frame['index'] = frame.index\n",
    "    frame.to_csv(filename, index=False)\n",
    "    \n",
    "def save_to_csv_noindex(frame, filename):\n",
    "    ''' \n",
    "    Takes a dataframe [frame] and saves it as a csv with name [filename]\n",
    "    frame     -   pd.dataframe object\n",
    "    filename  -   string\n",
    "    Does not add the index to the dataframe\n",
    "    '''\n",
    "    frame.to_csv(filename, index=False) \n",
    "    \n",
    "def get_tile_dbtable_vhs(table_num):\n",
    "    '''\n",
    "    table_num - integer representing tile number associated with desired table\n",
    "    '''\n",
    "    query = 'SELECT * from mydb://desvhs_tile{}'.format(str(table_num))\n",
    "    df = convert(qc.query(sql=query))\n",
    "    \n",
    "    # Process the dataframe\n",
    "    df = df.dropna(subset=['japermag3', 'japermag3err', 'ksapermag3', 'ksapermag3err'])\n",
    "    df = df.reindex(df['dist_arcsec'].sort_values().index)\n",
    "    duplicate = df[df.duplicated(subset=['sourceid'])]\n",
    "    df = df.drop_duplicates(subset = ['sourceid'])\n",
    "    df = df.reset_index(drop = True)\n",
    "    \n",
    "    return df, duplicate\n",
    "\n",
    "    \n",
    "def get_tile_dbtable_cat(table_num):\n",
    "    '''\n",
    "    table_num - integer representing tile number associated with desired table\n",
    "    '''\n",
    "    query = 'SELECT * from mydb://descat_tile{}'.format(str(table_num))\n",
    "    df = convert(qc.query(sql=query))\n",
    "    \n",
    "    # Process the dataframe\n",
    "    df = df.dropna(subset=['w1mpro', 'w1sigmpro', 'w2mpro', 'w2sigmpro'])\n",
    "    df = df.reindex(df['dist_arcsec'].sort_values().index)\n",
    "    duplicate = df[df.duplicated(subset=['source_id'])]\n",
    "    df = df.drop_duplicates(subset = ['source_id'])\n",
    "    df = df.reset_index(drop = True)\n",
    "    \n",
    "    return df, duplicate\n"
   ]
  },
  {
   "cell_type": "code",
   "execution_count": null,
   "id": "4fad2627-5707-467a-b0ac-ce87d7ba5a85",
   "metadata": {
    "execution": {
     "iopub.execute_input": "2023-09-14T00:40:05.573706Z",
     "iopub.status.busy": "2023-09-14T00:40:05.573091Z"
    }
   },
   "outputs": [],
   "source": [
    "# splitting DES into large tiles based on tilename\n",
    "\n",
    "output = pd.DataFrame()               # initialize an empty dataframe\n",
    "current_row = 0                       # initialize row counter\n",
    "total_rows = len(destilenames)        # total number of tilenames           \n",
    "remaining_rows = total_rows           # keeping track of how many rows left\n",
    "tile_number = 1                       # used for numbering outputs as large tiles\n",
    "\n",
    "while remaining_rows > 0:             # while there are rows left\n",
    "    tick_counter = 0                  # sets counts for every 50 rows\n",
    "    while (tick_counter < 50 and tick_counter >= 0 and remaining_rows > 0):  # doing 50 rows at a time\n",
    "        # querying DES:\n",
    "        query = \"\"\"\n",
    "        SELECT ra, dec, wavg_mag_psf_r, wavg_mag_psf_i, wavg_mag_psf_z, wavg_mag_psf_y, \n",
    "        wavg_magerr_psf_r, wavg_magerr_psf_i, wavg_magerr_psf_z, wavg_magerr_psf_y, tilename\n",
    "        FROM des_dr2.main as dr2\n",
    "        WHERE tilename = '{}'\n",
    "            AND dr2.EXTENDED_CLASS_COADD <= 1\n",
    "            AND dr2.IMAFLAGS_ISO_I = 0\n",
    "            AND dr2.IMAFLAGS_ISO_Z = 0\n",
    "            AND dr2.FLAGS_I < 4 \n",
    "            AND dr2.FLAGS_Z < 4\n",
    "        \"\"\".format(destilenames.iloc[current_row, 0])\n",
    "        # formatting response as a csv and turning it into a dataframe\n",
    "        response = qc.query(sql=query,format='csv')\n",
    "        sources = convert(response,'pandas')\n",
    "        # removing -99's from required DES z and DES y band columns\n",
    "        sources = sources[sources.wavg_mag_psf_z != -99.0]\n",
    "        sources = sources[sources.wavg_mag_psf_y != -99.0] \n",
    "        # renaming columns \n",
    "        sources = sources.rename(columns = {'ra' : 'ra_des', 'dec' : 'dec_des'})\n",
    "        # resetting index\n",
    "        sources = sources.reset_index(drop = True)\n",
    "        # concatenating all 50 results\n",
    "        output = pd.concat([sources, output], ignore_index = True)    \n",
    "        # changing relevant counters\n",
    "        current_row += 1\n",
    "        remaining_rows -=1\n",
    "        tick_counter += 1\n",
    "    # saving output as a csv file and re-initializing the output dataframe\n",
    "    save_to_csv(output, 'des_tile%d.csv' % tile_number)\n",
    "    tile_number += 1\n",
    "    output = pd.DataFrame()\n"
   ]
  },
  {
   "cell_type": "code",
   "execution_count": null,
   "id": "54b38a00-c867-4fa8-b528-a56245138c0f",
   "metadata": {},
   "outputs": [],
   "source": [
    "# opening and processing des-vhs matches\n",
    "\n",
    "desvhs_list = []\n",
    "\n",
    "for i in range(1, 205):\n",
    "    df, duplicate = get_tile_dbtable_vhs(i)\n",
    "    desvhs_list.append([df, duplicate])\n",
    "    \n",
    "print(len(desvhs_list))\n"
   ]
  },
  {
   "cell_type": "code",
   "execution_count": null,
   "id": "d1e23db0-69a1-41ba-825c-8b596db463e1",
   "metadata": {},
   "outputs": [],
   "source": [
    "# opening and processing des-cat matches\n",
    "\n",
    "descat_list = []\n",
    "\n",
    "for i in range(1, 205):\n",
    "    df, duplicate = get_tile_dbtable_cat(i)\n",
    "    descat_list.append([df, duplicate])\n",
    "    \n",
    "print(len(descat_list))"
   ]
  },
  {
   "cell_type": "code",
   "execution_count": null,
   "id": "3a8de6ad-ea6d-4dbd-9910-82470cdff71e",
   "metadata": {},
   "outputs": [],
   "source": [
    "# merge the des-vhs matches to the des-cat matches\n",
    "\n",
    "for i in range(0, 204):\n",
    "    \n",
    "    if i == 29:\n",
    "        pass\n",
    "    if i != 29: \n",
    "        # perform the merge and save the result as a csv file\n",
    "        df = pd.merge(desvhs_list[i][0], descat_list[i][0], on = 't1_index')\n",
    "        save_to_csv_noindex(df, 'tile%d.csv' % i)\n",
    "\n",
    "        # clearing out unnecessary variables and freeing memory\n",
    "        vhs = desvhs_list[i][0]\n",
    "        cat = descat_list[i][0]\n",
    "\n",
    "        desvhs_list[i][0] = None\n",
    "        descat_list[i][0] = None\n",
    "    \n",
    "        del(vhs)\n",
    "        del(cat)\n",
    "        gc.collect()"
   ]
  }
 ],
 "metadata": {
  "kernelspec": {
   "display_name": "Python 3",
   "language": "python",
   "name": "python3"
  },
  "language_info": {
   "codemirror_mode": {
    "name": "ipython",
    "version": 3
   },
   "file_extension": ".py",
   "mimetype": "text/x-python",
   "name": "python",
   "nbconvert_exporter": "python",
   "pygments_lexer": "ipython3",
   "version": "3.8.8"
  }
 },
 "nbformat": 4,
 "nbformat_minor": 5
}
